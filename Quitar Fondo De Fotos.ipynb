{
  "nbformat": 4,
  "nbformat_minor": 0,
  "metadata": {
    "colab": {
      "provenance": [],
      "authorship_tag": "ABX9TyMgxpxtkUfnGki8E1SGdNJk",
      "include_colab_link": true
    },
    "kernelspec": {
      "name": "python3",
      "display_name": "Python 3"
    },
    "language_info": {
      "name": "python"
    }
  },
  "cells": [
    {
      "cell_type": "markdown",
      "metadata": {
        "id": "view-in-github",
        "colab_type": "text"
      },
      "source": [
        "<a href=\"https://colab.research.google.com/github/toni9207/DragGAN/blob/main/Quitar%20Fondo%20De%20Fotos.ipynb\" target=\"_parent\"><img src=\"https://colab.research.google.com/assets/colab-badge.svg\" alt=\"Open In Colab\"/></a>"
      ]
    },
    {
      "cell_type": "code",
      "execution_count": null,
      "metadata": {
        "id": "GmFPLIIzjwRk"
      },
      "outputs": [],
      "source": [
        "!pip install rembg"
      ]
    },
    {
      "cell_type": "code",
      "source": [
        "from rembg import remove\n",
        "from PIL import Image"
      ],
      "metadata": {
        "id": "qjAabHHwj0OH"
      },
      "execution_count": null,
      "outputs": []
    },
    {
      "cell_type": "code",
      "source": [
        "input_path = \"AQUI TU IMAGEN\"\n",
        "output_path = \"/content/1b.png\"\n",
        "inp = Image.open(input_path)\n",
        "output = remove(inp)\n",
        "output.save(output_path)"
      ],
      "metadata": {
        "id": "zsvgwmttj3ZX"
      },
      "execution_count": null,
      "outputs": []
    }
  ]
}